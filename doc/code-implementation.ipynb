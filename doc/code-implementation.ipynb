{
 "cells": [
  {
   "cell_type": "markdown",
   "metadata": {},
   "source": [
    "## First implementation of the code."
   ]
  },
  {
   "cell_type": "markdown",
   "metadata": {},
   "source": [
    "We are trying to follow the meassurements done by [1]. The first try was to implement the following algorithm:\n",
    "\n",
    "Starting with state |1 > to perform the measurement.\n",
    "\n",
    "1. Initialize all qubits at state |1>\n",
    "2. Wait 1 µs.\n",
    "3. Measure the state of all qubits. \n",
    "\n",
    "Repeat the process each 100 µs."
   ]
  },
  {
   "cell_type": "markdown",
   "metadata": {},
   "source": [
    "And for that we started by implementing the following code (v0):"
   ]
  },
  {
   "cell_type": "code",
   "execution_count": 2,
   "metadata": {},
   "outputs": [
    {
     "name": "stdout",
     "output_type": "stream",
     "text": [
      "Repetition 1 - FakeQmio Counts: {'11111': 1024}\n",
      "Repetition 2 - FakeQmio Counts: {'11111': 1024}\n",
      "Repetition 3 - FakeQmio Counts: {'11111': 1024}\n",
      "Repetition 4 - FakeQmio Counts: {'11111': 1024}\n",
      "Repetition 5 - FakeQmio Counts: {'11111': 1024}\n",
      "Repetition 6 - FakeQmio Counts: {'11111': 1024}\n",
      "Repetition 7 - FakeQmio Counts: {'11111': 1024}\n",
      "Repetition 8 - FakeQmio Counts: {'11111': 1024}\n",
      "Repetition 9 - FakeQmio Counts: {'11111': 1024}\n",
      "Repetition 10 - FakeQmio Counts: {'11111': 1024}\n"
     ]
    }
   ],
   "source": [
    "from qiskit import QuantumCircuit, transpile\n",
    "from qiskit_aer import AerSimulator\n",
    "#from qmiotools.integrations.qiskitqmio import FakeQmio\n",
    "\n",
    "# number of qubits\n",
    "num_qubits = 5\n",
    "\n",
    "#backend = FakeQmio()\n",
    "backend = AerSimulator() #qmiotools not installed locally\n",
    "\n",
    "def create_circuit(num_qubits):\n",
    "\n",
    "    # we are measuring 32 qubits so we need 32 classic qubits to save the results\n",
    "    qc = QuantumCircuit(num_qubits, num_qubits)\n",
    "    # initialice all qubits to state |1⟩\n",
    "    qc.x(range(num_qubits))\n",
    "    \n",
    "    qc.delay(1, range(num_qubits), unit='us') # delay of 1 µs\n",
    "    # measuring all qubits\n",
    "    qc.measure(range(num_qubits), range(num_qubits))\n",
    "    return qc\n",
    "\n",
    "qc = create_circuit(num_qubits)\n",
    "\n",
    "# repeating each 100 µs for 100s\n",
    "# num_repetitions = int(100 / 0.0001)\n",
    "num_repetitions = 10\n",
    "\n",
    "for i in range(num_repetitions):\n",
    "\n",
    "    qc.delay(100, range(num_qubits), unit='us')  # delay of  100 µs\n",
    "\n",
    "    # initializing again the circuit ?\n",
    "    qc = create_circuit(num_qubits)\n",
    "    \n",
    "    # executing the circuit ? \n",
    "    qct = transpile(qc, backend)\n",
    "    job = backend.run(qct, shots=1024)\n",
    "    result = job.result()\n",
    "    counts = result.get_counts(qc) # qc ? \n",
    "    \n",
    "    # printing results\n",
    "    print(f\"Repetition {i+1} - FakeQmio Counts:\", counts)"
   ]
  },
  {
   "cell_type": "markdown",
   "metadata": {},
   "source": [
    "Which in fact works but takes a long time to execute. We were facing 1h30min for the code with 10 qubits and 10 repetitions...\n",
    "\n",
    "After debating with Andrés Gómez from CESGA there are some characteristics about the QPU we haven't taken into account: \n",
    "\n",
    "- The coherence times of the qubits are longer than what we expected.They are about $T_1 = 60-120 \\mu s$. If we want the state to be again at |0> we need to wait $3-5 T_1$. \n",
    "- In order for the system to keep an exact period between measurements we need to use the *repetition_period* argument in the run command.\n",
    "  "
   ]
  },
  {
   "cell_type": "markdown",
   "metadata": {},
   "source": [
    "### Bibliografy.\n",
    "\n",
    "[1] Matt McEwen et all. Resolving catastrophic error bursts from cosmic rays in large arrays of superconducting qubits. Nature Physics, 18(1):107–111, 2022."
   ]
  }
 ],
 "metadata": {
  "kernelspec": {
   "display_name": "qmio-venv",
   "language": "python",
   "name": "python3"
  },
  "language_info": {
   "codemirror_mode": {
    "name": "ipython",
    "version": 3
   },
   "file_extension": ".py",
   "mimetype": "text/x-python",
   "name": "python",
   "nbconvert_exporter": "python",
   "pygments_lexer": "ipython3",
   "version": "3.12.3"
  }
 },
 "nbformat": 4,
 "nbformat_minor": 2
}
