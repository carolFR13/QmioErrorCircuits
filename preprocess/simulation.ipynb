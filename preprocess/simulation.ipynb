{
 "cells": [
  {
   "cell_type": "markdown",
   "id": "3ec9f3cc",
   "metadata": {},
   "source": [
    "## **Cosmic ray simulation.**\n",
    "\n",
    "Code to find how many cosmic rays pass through a vertical plane with the same dimensions as the QPU."
   ]
  },
  {
   "cell_type": "code",
   "execution_count": 3,
   "id": "3b1da180",
   "metadata": {},
   "outputs": [
    {
     "name": "stdout",
     "output_type": "stream",
     "text": [
      "Estimated muon rate on vertical chip: 0.0590 muons/s\n",
      "Average waiting time: 16.95 seconds\n"
     ]
    }
   ],
   "source": [
    "import numpy as np\n",
    "\n",
    "# Configuration\n",
    "N = int(1e6)  # Number of simulated muons\n",
    "chip_size_cm = 2.2  # Chip is 2.2 cm x 2.2 cm\n",
    "chip_half = chip_size_cm / 2\n",
    "\n",
    "# Simulated area above the chip (big enough to catch all directions)\n",
    "sim_area_size_cm = 100  # 100x100 cm plane at x = 10 cm\n",
    "sim_area = sim_area_size_cm ** 2\n",
    "\n",
    "# Step 1: Sample direction\n",
    "u = np.random.rand(N)**(1/3)  # cos(theta)^2 * sin(theta)\n",
    "theta = np.arccos(u)\n",
    "phi = np.random.uniform(0, 2 * np.pi, N)\n",
    "\n",
    "# Convert to direction vectors\n",
    "vx = np.sin(theta) * np.cos(phi)\n",
    "vy = np.sin(theta) * np.sin(phi)\n",
    "vz = np.cos(theta)\n",
    "\n",
    "# Step 2: Initial positions (on x = 10 cm plane)\n",
    "x0 = np.full(N, 10.0)  # All muons start at x=10 cm\n",
    "y0 = np.random.uniform(-sim_area_size_cm / 2, sim_area_size_cm / 2, N)\n",
    "z0 = np.random.uniform(-sim_area_size_cm / 2, sim_area_size_cm / 2, N)\n",
    "\n",
    "# Step 3: Find intersection with x=0 plane (where chip is)\n",
    "t = x0 / vx\n",
    "y_hit = y0 - t * vy\n",
    "z_hit = z0 - t * vz\n",
    "\n",
    "# Step 4: Check if muon hits the chip\n",
    "hits = (np.abs(y_hit) < chip_half) & (np.abs(z_hit) < chip_half)\n",
    "n_hits = np.sum(hits)\n",
    "\n",
    "# Step 5: Scale result\n",
    "# Known flux on horizontal surface:\n",
    "flux_horizontal = 1 / 60  # muons/cm^2/s\n",
    "\n",
    "# Number of simulated muons per second on simulated area\n",
    "muons_per_sec = flux_horizontal * sim_area\n",
    "\n",
    "# Fraction hitting the vertical chip\n",
    "fraction_hits = n_hits / N\n",
    "\n",
    "# Estimated rate on vertical chip:\n",
    "rate_on_chip = muons_per_sec * fraction_hits\n",
    "\n",
    "# Average waiting time:\n",
    "avg_waiting_time = 1 / rate_on_chip if rate_on_chip > 0 else float('inf')\n",
    "\n",
    "# Print results\n",
    "print(f\"Estimated muon rate on vertical chip: {rate_on_chip:.4f} muons/s\")\n",
    "print(f\"Average waiting time: {avg_waiting_time:.2f} seconds\")"
   ]
  }
 ],
 "metadata": {
  "kernelspec": {
   "display_name": ".venv",
   "language": "python",
   "name": "python3"
  },
  "language_info": {
   "codemirror_mode": {
    "name": "ipython",
    "version": 3
   },
   "file_extension": ".py",
   "mimetype": "text/x-python",
   "name": "python",
   "nbconvert_exporter": "python",
   "pygments_lexer": "ipython3",
   "version": "3.13.4"
  }
 },
 "nbformat": 4,
 "nbformat_minor": 5
}
